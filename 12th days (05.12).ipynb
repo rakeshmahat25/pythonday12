{
 "cells": [
  {
   "cell_type": "code",
   "execution_count": 1,
   "id": "8c93ad31",
   "metadata": {},
   "outputs": [],
   "source": [
    "def adder(num1,num2):\n",
    "    return num1 + num2"
   ]
  },
  {
   "cell_type": "code",
   "execution_count": 2,
   "id": "3bf16fa7",
   "metadata": {},
   "outputs": [
    {
     "data": {
      "text/plain": [
       "45"
      ]
     },
     "execution_count": 2,
     "metadata": {},
     "output_type": "execute_result"
    }
   ],
   "source": [
    "adder(12,33)"
   ]
  },
  {
   "cell_type": "code",
   "execution_count": 5,
   "id": "ca033fbb",
   "metadata": {},
   "outputs": [
    {
     "data": {
      "text/plain": [
       "'Hi, Rakesh'"
      ]
     },
     "execution_count": 5,
     "metadata": {},
     "output_type": "execute_result"
    }
   ],
   "source": [
    "def greeting_message(name, greet = \"Hi\", ):\n",
    "    return(f\"{greet}, {name}\")\n",
    "\n",
    "greeting_message(\"Rakesh\")"
   ]
  },
  {
   "cell_type": "code",
   "execution_count": 6,
   "id": "dfd4947e",
   "metadata": {},
   "outputs": [
    {
     "data": {
      "text/plain": [
       "'Welcome, Rakesh'"
      ]
     },
     "execution_count": 6,
     "metadata": {},
     "output_type": "execute_result"
    }
   ],
   "source": [
    "greeting_message(\"Rakesh\",\"Welcome\")"
   ]
  },
  {
   "cell_type": "code",
   "execution_count": 19,
   "id": "b6434287",
   "metadata": {},
   "outputs": [
    {
     "name": "stdout",
     "output_type": "stream",
     "text": [
      "hello\n",
      "Even\n",
      "Even\n",
      "Even\n",
      "Even\n",
      "Even\n",
      "Even\n",
      "Even\n",
      "Even\n"
     ]
    }
   ],
   "source": [
    "# write a function which takes two arguments , a list of numbers and a value which defines whether to return\n",
    "# even numbers from that list or odd numbers\n",
    "\n",
    "def evenOdd(numlist :list, retEven= True):  # type hint ( inside parameter )\n",
    "    for i in num:\n",
    "        if retEven:\n",
    "            print(\"Even\")\n",
    "        else:\n",
    "            print(\"Odd\")\n",
    "    \n",
    "        \n",
    "\n",
    "num =[1,2,3,4,5,6,7,8]\n",
    "print(\"hello\")\n",
    "evenOdd(num)\n"
   ]
  },
  {
   "cell_type": "code",
   "execution_count": 28,
   "id": "a4f38714",
   "metadata": {},
   "outputs": [],
   "source": [
    "def evenOdd(numlist :list, retEven= True ):\n",
    "    evenList = []\n",
    "    oddlist = []\n",
    "    if retEven:\n",
    "        for num in numlist:\n",
    "            if num%2 == 0:\n",
    "               evenList.append(num)\n",
    "        return evenList\n",
    "    else:\n",
    "        for num in numlist:\n",
    "            if num%2 != 0:\n",
    "               oddlist.append(num)\n",
    "        return oddlist\n",
    "      "
   ]
  },
  {
   "cell_type": "code",
   "execution_count": 30,
   "id": "0eb4aca6",
   "metadata": {},
   "outputs": [
    {
     "name": "stdout",
     "output_type": "stream",
     "text": [
      "[1, 3, 5, 7]\n",
      "[2, 4, 6, 8]\n"
     ]
    }
   ],
   "source": [
    "print(evenOdd(num, retEven = False))\n",
    "print(evenOdd(num))"
   ]
  },
  {
   "cell_type": "code",
   "execution_count": 11,
   "id": "eca50a54",
   "metadata": {},
   "outputs": [
    {
     "name": "stdout",
     "output_type": "stream",
     "text": [
      "I am from Sweden\n",
      "I am from India\n",
      "I am from Norway\n",
      "I am from Brazil\n"
     ]
    }
   ],
   "source": [
    "def my_function(country = \"Norway\"):\n",
    "  print(\"I am from \" + country)\n",
    "\n",
    "my_function(\"Sweden\")\n",
    "my_function(\"India\")\n",
    "my_function()\n",
    "my_function(\"Brazil\")"
   ]
  },
  {
   "cell_type": "code",
   "execution_count": null,
   "id": "a6bdfdea",
   "metadata": {},
   "outputs": [],
   "source": []
  }
 ],
 "metadata": {
  "kernelspec": {
   "display_name": "Python 3 (ipykernel)",
   "language": "python",
   "name": "python3"
  },
  "language_info": {
   "codemirror_mode": {
    "name": "ipython",
    "version": 3
   },
   "file_extension": ".py",
   "mimetype": "text/x-python",
   "name": "python",
   "nbconvert_exporter": "python",
   "pygments_lexer": "ipython3",
   "version": "3.9.7"
  }
 },
 "nbformat": 4,
 "nbformat_minor": 5
}
